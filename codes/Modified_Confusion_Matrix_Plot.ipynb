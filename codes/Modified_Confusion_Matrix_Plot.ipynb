{
 "cells": [
  {
   "cell_type": "code",
   "execution_count": 1,
   "id": "90c9edd9",
   "metadata": {},
   "outputs": [],
   "source": [
    "# Libraries for managing dataset\n",
    "import pandas as pd\n",
    "import numpy as np\n",
    "\n",
    "# The defaultdict of collections library\n",
    "from collections import defaultdict as dd\n",
    "\n",
    "# Libraries for data visualization\n",
    "import matplotlib.pyplot as plt\n",
    "import seaborn as sns\n",
    "\n",
    "# Libraries of the ML models\n",
    "from sklearn.discriminant_analysis import LinearDiscriminantAnalysis as LDA\n",
    "from sklearn.discriminant_analysis import QuadraticDiscriminantAnalysis as QDA\n",
    "from sklearn.ensemble import GradientBoostingClassifier as GBC\n",
    "from sklearn.svm import LinearSVC as LSVM\n",
    "from sklearn.neighbors import KNeighborsClassifier as KNN\n",
    "from sklearn.naive_bayes import CategoricalNB as NBC\n",
    "from sklearn.tree import DecisionTreeClassifier as DTC\n",
    "from sklearn.neural_network import MLPClassifier as MLPC\n",
    "from sklearn.linear_model import Perceptron\n",
    "from sklearn.linear_model import LogisticRegression as LR\n",
    "\n",
    "# libraries for performance evaluation\n",
    "from sklearn.metrics import zero_one_loss\n",
    "from sklearn.metrics import jaccard_score # equal to accuracy_score for binary classification\n",
    "from sklearn.metrics import matthews_corrcoef\n",
    "from sklearn.metrics import accuracy_score\n",
    "from sklearn.metrics import balanced_accuracy_score\n",
    "from sklearn.metrics import f1_score\n",
    "from sklearn.metrics import plot_roc_curve\n",
    "from sklearn.metrics import plot_confusion_matrix\n",
    "from sklearn.metrics import ConfusionMatrixDisplay\n",
    "from sklearn.metrics import RocCurveDisplay\n",
    "from sklearn.metrics import hamming_loss\n",
    "from sklearn.metrics import precision_score\n",
    "from sklearn.metrics import roc_auc_score\n",
    "from sklearn.metrics import auc\n",
    "from sklearn.metrics import recall_score\n",
    "from sklearn.metrics import recall_score, make_scorer\n",
    "\n",
    "# Libraries for cross-validation\n",
    "from sklearn.model_selection import cross_val_score\n",
    "from sklearn.model_selection import StratifiedKFold\n",
    "\n",
    "\n",
    "df = pd.read_csv(\"../datasets/final_combined_extracted_features_dataset/final_combined_extracted_octapeptide_features.csv\", \n",
    "                 index_col=0)\n",
    "\n",
    "\n",
    "training_set, validation_set, testing_set = np.split(df.sample(frac=1, random_state=123), [int(.7*len(df)), int(.8*len(df))])\n",
    "\n",
    "X_training = training_set.drop([\"cleavage Status\"], axis=1)\n",
    "y_training = training_set[\"cleavage Status\"].copy().map({\"cleaved\": 1, \"uncleaved\": 0})\n",
    "\n",
    "X_validation = validation_set.drop([\"cleavage Status\"], axis=1)\n",
    "y_validation = validation_set[\"cleavage Status\"].copy().map({\"cleaved\": 1, \"uncleaved\": 0})\n",
    "\n",
    "X_testing = testing_set.drop([\"cleavage Status\"], axis=1)\n",
    "y_testing = testing_set[\"cleavage Status\"].copy().map({\"cleaved\": 1, \"uncleaved\": 0})"
   ]
  },
  {
   "cell_type": "code",
   "execution_count": 2,
   "id": "37214fcf",
   "metadata": {},
   "outputs": [
    {
     "name": "stderr",
     "output_type": "stream",
     "text": [
      "C:\\Users\\USER\\anaconda3\\lib\\site-packages\\sklearn\\svm\\_base.py:1225: ConvergenceWarning: Liblinear failed to converge, increase the number of iterations.\n",
      "  warnings.warn(\n",
      "C:\\Users\\USER\\anaconda3\\lib\\site-packages\\sklearn\\naive_bayes.py:591: UserWarning: alpha too small will result in numeric errors, setting alpha = 1.0e-10\n",
      "  warnings.warn(\n"
     ]
    }
   ],
   "source": [
    "## Instantiating the classifier classes and storing in a list\n",
    "clf_list = [\n",
    "    (LSVM(random_state=0, tol=1e-5, C=5), \"LinearSVC\"),\n",
    "    (LDA(solver=\"svd\", tol=1e-8), \"LinearDiscriminantAnalysis\"),\n",
    "    (GBC(n_estimators=800, learning_rate=1.0, max_depth=1, random_state=0, \n",
    "         tol=1e-10, ccp_alpha=0.0), \"GradientBoostingClassifier\"),\n",
    "    (KNN(n_neighbors=4, n_jobs=-1, metric=\"minkowski\", leaf_size=30, p=2, \n",
    "         weights=\"distance\"), \"KNeighorsClassifier\"),\n",
    "    (NBC(alpha=0), \"CategoricalNB\"),\n",
    "    (DTC(criterion=\"gini\", splitter=\"best\", max_depth=None, ccp_alpha=0.0), \"DecisionTreeClassifier\"),\n",
    "    (MLPC(hidden_layer_sizes=100, activation =\"relu\", solver=\"adam\", alpha=0.0001, \n",
    "          learning_rate=\"adaptive\", max_iter=200, tol=1e-4, momentum=0.9, epsilon=1e-8,), \"MLPClassifier\"),\n",
    "    (Perceptron(penalty=\"l2\", alpha=0.0000001, max_iter=4000, tol=1e-7, eta0=2, n_jobs=-1), \"Perceptron\"),       \n",
    "    (LR(random_state=0, penalty=\"l2\", tol=1e-3, C=0.99, solver=\"lbfgs\", max_iter=150,\n",
    "       n_jobs=-1), \"LogisticRegression\")]\n",
    "\n",
    "scores = dd(list)\n",
    "\n",
    "for clf, name in clf_list:\n",
    "    clf.fit(X_training, y_training)\n",
    "    y_pred = clf.predict(X_testing)\n",
    "    scores[\"Classifier\"].append(name)   \n",
    "\n",
    "    for metric in [balanced_accuracy_score]:\n",
    "        score_name = metric.__name__.replace(\"_\", \" \").replace(\"score\", \" \").capitalize()\n",
    "        scores[score_name].append(metric(y_testing, y_pred))\n",
    "\n",
    "    for metric in [precision_score, recall_score, f1_score, roc_auc_score, jaccard_score]:\n",
    "        score_name = metric.__name__.replace(\"_\", \" \").replace(\"score\", \" \").capitalize()\n",
    "        scores[score_name].append(metric(y_testing, y_pred, average=\"macro\"))       "
   ]
  },
  {
   "cell_type": "code",
   "execution_count": 3,
   "id": "650a8ae1",
   "metadata": {},
   "outputs": [
    {
     "name": "stderr",
     "output_type": "stream",
     "text": [
      "C:\\Users\\USER\\AppData\\Local\\Temp/ipykernel_17140/109611648.py:19: UserWarning: Matplotlib is currently using module://matplotlib_inline.backend_inline, which is a non-GUI backend, so cannot show the figure.\n",
      "  fig.show()\n"
     ]
    },
    {
     "data": {
      "image/png": "[encoded data removed]",
      "text/plain": [
       "<Figure size 432x432 with 9 Axes>"
      ]
     },
     "metadata": {
      "needs_background": "light"
     },
     "output_type": "display_data"
    }
   ],
   "source": [
    "titles = [\"a\", \"b\", \"c\", \"d\", \"e\", \"f\", \"g\", \"h\", \"i\"]\n",
    "\n",
    "fig, axes = plt.subplots(nrows=3, ncols=3, figsize=(6, 6))\n",
    "\n",
    "for (clf, name), ax, title in zip(clf_list, axes.flatten(), titles):\n",
    "    ConfusionMatrixDisplay.from_estimator(clf, X_testing, y_testing, ax=ax, cmap='Greys_r', colorbar=False)\n",
    "    ax.set_title(label=title, loc=\"left\", fontsize=14,)\n",
    "    #ax.set_title(label=name, loc=\"left\", fontsize=18) we can use this if we want the titles to show as name of the classifiers\n",
    "    ax.grid(False)\n",
    "#     ax.set(xlabel=None)\n",
    "#     ax.set(ylabel=None)\n",
    "\n",
    "# fig.supxlabel(\"Predicted Label\\n\\n a) Linear Support Vector Machine; b) Linear Discriminant analysis;\\n c) Gradient Boosting Classifier; d) K-Nearest Neighbors;\\n e) Naive Bayes Classifier; f) Decision Tree Classifier; g) Multi-Layer\\n Perceptron Classifier; h) Perceptron Classifier; i) Logistic Regression\", \n",
    "#               fontsize=20, fontweight=\"bold\")  \n",
    "# fig.supylabel(\"True Label\", fontsize=20, fontweight=\"bold\")    \n",
    "fig.tight_layout() \n",
    "#fig.savefig('../results/Combined_Confusion_Matrix_of_Models_on_Evaluation_Set.jng', dpi=1200)\n",
    "fig.savefig('../results/Confusion_Matrix_of_the_Models_on_Testing_Set.png', dpi=1200)\n",
    "fig.show()"
   ]
  }
 ],
 "metadata": {
  "kernelspec": {
   "display_name": "Python 3 (ipykernel)",
   "language": "python",
   "name": "python3"
  },
  "language_info": {
   "codemirror_mode": {
    "name": "ipython",
    "version": 3
   },
   "file_extension": ".py",
   "mimetype": "text/x-python",
   "name": "python",
   "nbconvert_exporter": "python",
   "pygments_lexer": "ipython3",
   "version": "3.9.7"
  }
 },
 "nbformat": 4,
 "nbformat_minor": 5
}
